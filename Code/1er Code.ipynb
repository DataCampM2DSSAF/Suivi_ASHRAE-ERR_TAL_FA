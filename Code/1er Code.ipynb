{
 "cells": [
  {
   "cell_type": "markdown",
   "metadata": {},
   "source": [
    "## Importation des données "
   ]
  },
  {
   "cell_type": "code",
   "execution_count": 1,
   "metadata": {},
   "outputs": [],
   "source": [
    "# importation des librairies\n",
    "import pandas as pd\n",
    "import numpy as np\n",
    "import matplotlib.pyplot as plt"
   ]
  },
  {
   "cell_type": "code",
   "execution_count": 4,
   "metadata": {},
   "outputs": [],
   "source": [
    "import os\n",
    "for dirname, _, filenames in os.walk('/kaggle/input'):\n",
    "    for filename in filenames:\n",
    "        print(os.path.join(dirname, filename))"
   ]
  },
  {
   "cell_type": "code",
   "execution_count": 6,
   "metadata": {},
   "outputs": [],
   "source": [
    "#load data\n",
    "train = pd.read_csv('/Users/taleb/Documents/COURS/Cours M2/Data Camp/ashrae-energy-prediction/train.csv')\n",
    "test = pd.read_csv('/Users/taleb/Documents/COURS/Cours M2/Data Camp/ashrae-energy-prediction/test.csv')\n",
    "weather_train = pd.read_csv('/Users/taleb/Documents/COURS/Cours M2/Data Camp/ashrae-energy-prediction/weather_train.csv')\n",
    "weather_test = pd.read_csv('/Users/taleb/Documents/COURS/Cours M2/Data Camp/ashrae-energy-prediction/weather_test.csv')\n",
    "building_meta = pd.read_csv('/Users/taleb/Documents/COURS/Cours M2/Data Camp/ashrae-energy-prediction/building_metadata.csv')"
   ]
  },
  {
   "cell_type": "code",
   "execution_count": 17,
   "metadata": {},
   "outputs": [
    {
     "name": "stdout",
     "output_type": "stream",
     "text": [
      "   building_id  meter            timestamp  meter_reading\n",
      "0            0      0  2016-01-01 00:00:00            0.0\n",
      "1            1      0  2016-01-01 00:00:00            0.0\n",
      "2            2      0  2016-01-01 00:00:00            0.0\n",
      "3            3      0  2016-01-01 00:00:00            0.0\n",
      "4            4      0  2016-01-01 00:00:00            0.0\n",
      "(20216100, 4)\n",
      "building_id        int64\n",
      "meter              int64\n",
      "timestamp         object\n",
      "meter_reading    float64\n",
      "dtype: object\n"
     ]
    }
   ],
   "source": [
    "print(train.head())\n",
    "print(train.shape)\n",
    "print(train.dtypes)"
   ]
  },
  {
   "cell_type": "code",
   "execution_count": 18,
   "metadata": {},
   "outputs": [
    {
     "name": "stdout",
     "output_type": "stream",
     "text": [
      "   row_id  building_id  meter            timestamp\n",
      "0       0            0      0  2017-01-01 00:00:00\n",
      "1       1            1      0  2017-01-01 00:00:00\n",
      "2       2            2      0  2017-01-01 00:00:00\n",
      "3       3            3      0  2017-01-01 00:00:00\n",
      "4       4            4      0  2017-01-01 00:00:00\n",
      "(41697600, 4)\n",
      "row_id          int64\n",
      "building_id     int64\n",
      "meter           int64\n",
      "timestamp      object\n",
      "dtype: object\n"
     ]
    }
   ],
   "source": [
    "print(test.head())\n",
    "print(test.shape)\n",
    "print(test.dtypes)"
   ]
  },
  {
   "cell_type": "code",
   "execution_count": 19,
   "metadata": {},
   "outputs": [
    {
     "name": "stdout",
     "output_type": "stream",
     "text": [
      "   site_id            timestamp  air_temperature  cloud_coverage  \\\n",
      "0        0  2016-01-01 00:00:00             25.0             6.0   \n",
      "1        0  2016-01-01 01:00:00             24.4             NaN   \n",
      "2        0  2016-01-01 02:00:00             22.8             2.0   \n",
      "3        0  2016-01-01 03:00:00             21.1             2.0   \n",
      "4        0  2016-01-01 04:00:00             20.0             2.0   \n",
      "\n",
      "   dew_temperature  precip_depth_1_hr  sea_level_pressure  wind_direction  \\\n",
      "0             20.0                NaN              1019.7             0.0   \n",
      "1             21.1               -1.0              1020.2            70.0   \n",
      "2             21.1                0.0              1020.2             0.0   \n",
      "3             20.6                0.0              1020.1             0.0   \n",
      "4             20.0               -1.0              1020.0           250.0   \n",
      "\n",
      "   wind_speed  \n",
      "0         0.0  \n",
      "1         1.5  \n",
      "2         0.0  \n",
      "3         0.0  \n",
      "4         2.6  \n",
      "(139773, 9)\n",
      "site_id                 int64\n",
      "timestamp              object\n",
      "air_temperature       float64\n",
      "cloud_coverage        float64\n",
      "dew_temperature       float64\n",
      "precip_depth_1_hr     float64\n",
      "sea_level_pressure    float64\n",
      "wind_direction        float64\n",
      "wind_speed            float64\n",
      "dtype: object\n"
     ]
    }
   ],
   "source": [
    "print(weather_train.head())\n",
    "print(weather_train.shape)\n",
    "print(weather_train.dtypes)"
   ]
  },
  {
   "cell_type": "code",
   "execution_count": 20,
   "metadata": {},
   "outputs": [
    {
     "name": "stdout",
     "output_type": "stream",
     "text": [
      "   site_id            timestamp  air_temperature  cloud_coverage  \\\n",
      "0        0  2017-01-01 00:00:00             17.8             4.0   \n",
      "1        0  2017-01-01 01:00:00             17.8             2.0   \n",
      "2        0  2017-01-01 02:00:00             16.1             0.0   \n",
      "3        0  2017-01-01 03:00:00             17.2             0.0   \n",
      "4        0  2017-01-01 04:00:00             16.7             2.0   \n",
      "\n",
      "   dew_temperature  precip_depth_1_hr  sea_level_pressure  wind_direction  \\\n",
      "0             11.7                NaN              1021.4           100.0   \n",
      "1             12.8                0.0              1022.0           130.0   \n",
      "2             12.8                0.0              1021.9           140.0   \n",
      "3             13.3                0.0              1022.2           140.0   \n",
      "4             13.3                0.0              1022.3           130.0   \n",
      "\n",
      "   wind_speed  \n",
      "0         3.6  \n",
      "1         3.1  \n",
      "2         3.1  \n",
      "3         3.1  \n",
      "4         2.6  \n",
      "(277243, 9)\n",
      "site_id                 int64\n",
      "timestamp              object\n",
      "air_temperature       float64\n",
      "cloud_coverage        float64\n",
      "dew_temperature       float64\n",
      "precip_depth_1_hr     float64\n",
      "sea_level_pressure    float64\n",
      "wind_direction        float64\n",
      "wind_speed            float64\n",
      "dtype: object\n"
     ]
    }
   ],
   "source": [
    "print(weather_test.head())\n",
    "print(weather_test.shape)\n",
    "print(weather_test.dtypes)"
   ]
  },
  {
   "cell_type": "code",
   "execution_count": 21,
   "metadata": {},
   "outputs": [
    {
     "name": "stdout",
     "output_type": "stream",
     "text": [
      "   site_id  building_id primary_use  square_feet  year_built  floor_count\n",
      "0        0            0   Education         7432      2008.0          NaN\n",
      "1        0            1   Education         2720      2004.0          NaN\n",
      "2        0            2   Education         5376      1991.0          NaN\n",
      "3        0            3   Education        23685      2002.0          NaN\n",
      "4        0            4   Education       116607      1975.0          NaN\n",
      "(1449, 6)\n",
      "site_id          int64\n",
      "building_id      int64\n",
      "primary_use     object\n",
      "square_feet      int64\n",
      "year_built     float64\n",
      "floor_count    float64\n",
      "dtype: object\n"
     ]
    }
   ],
   "source": [
    "print(building_meta.head())\n",
    "print(building_meta.shape)\n",
    "print(building_meta.dtypes)"
   ]
  },
  {
   "cell_type": "code",
   "execution_count": 22,
   "metadata": {},
   "outputs": [],
   "source": [
    "# Tout d'abord, on transforme les timestamps qui sont des objects en format datetime pour\n",
    "# faciliter les manipulations futures des données\n",
    "train['timestamp'] = pd.to_datetime(train['timestamp'])\n",
    "test['timestamp'] = pd.to_datetime(test['timestamp'])\n",
    "weather_train['timestamp'] = pd.to_datetime(weather_train['timestamp'])\n",
    "weather_test['timestamp'] = pd.to_datetime(weather_test['timestamp'])"
   ]
  },
  {
   "cell_type": "code",
   "execution_count": null,
   "metadata": {},
   "outputs": [],
   "source": []
  }
 ],
 "metadata": {
  "kernelspec": {
   "display_name": "Python 3",
   "language": "python",
   "name": "python3"
  },
  "language_info": {
   "codemirror_mode": {
    "name": "ipython",
    "version": 3
   },
   "file_extension": ".py",
   "mimetype": "text/x-python",
   "name": "python",
   "nbconvert_exporter": "python",
   "pygments_lexer": "ipython3",
   "version": "3.7.6"
  }
 },
 "nbformat": 4,
 "nbformat_minor": 4
}
